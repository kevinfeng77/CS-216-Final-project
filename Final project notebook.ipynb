{
 "cells": [
  {
   "cell_type": "code",
   "execution_count": 3,
   "id": "1651bb2e",
   "metadata": {},
   "outputs": [],
   "source": [
    "import pandas as pd\n",
    "import matplotlib.pyplot as plt\n",
    "from scipy import stats\n",
    "import seaborn as sns\n",
    "import numpy as np\n"
   ]
  },
  {
   "cell_type": "code",
   "execution_count": 4,
   "id": "48dfbfaf",
   "metadata": {},
   "outputs": [],
   "source": [
    "df_games = pd.read_csv('bball.csv')"
   ]
  },
  {
   "cell_type": "code",
   "execution_count": 5,
   "id": "984a7f3c",
   "metadata": {},
   "outputs": [],
   "source": [
    "df_games['venue'] = np.where(df_games['in_Cameron'] == 0, 'Other ACC Venue', 'Cameron')"
   ]
  },
  {
   "cell_type": "code",
   "execution_count": 6,
   "id": "d2f24aed",
   "metadata": {},
   "outputs": [
    {
     "data": {
      "text/html": [
       "<div>\n",
       "<style scoped>\n",
       "    .dataframe tbody tr th:only-of-type {\n",
       "        vertical-align: middle;\n",
       "    }\n",
       "\n",
       "    .dataframe tbody tr th {\n",
       "        vertical-align: top;\n",
       "    }\n",
       "\n",
       "    .dataframe thead th {\n",
       "        text-align: right;\n",
       "    }\n",
       "</style>\n",
       "<table border=\"1\" class=\"dataframe\">\n",
       "  <thead>\n",
       "    <tr style=\"text-align: right;\">\n",
       "      <th></th>\n",
       "      <th>year</th>\n",
       "      <th>date</th>\n",
       "      <th>location</th>\n",
       "      <th>in_Cameron</th>\n",
       "      <th>did_win</th>\n",
       "      <th>team</th>\n",
       "      <th>opp</th>\n",
       "      <th>result</th>\n",
       "      <th>pts</th>\n",
       "      <th>pos</th>\n",
       "      <th>...</th>\n",
       "      <th>def_efg</th>\n",
       "      <th>def_to</th>\n",
       "      <th>def_or</th>\n",
       "      <th>def_ftr</th>\n",
       "      <th>game_score</th>\n",
       "      <th>season</th>\n",
       "      <th>tempo</th>\n",
       "      <th>coach</th>\n",
       "      <th>opp_coach</th>\n",
       "      <th>venue</th>\n",
       "    </tr>\n",
       "  </thead>\n",
       "  <tbody>\n",
       "    <tr>\n",
       "      <th>1617</th>\n",
       "      <td>2022</td>\n",
       "      <td>12/28/2021</td>\n",
       "      <td>A</td>\n",
       "      <td>0</td>\n",
       "      <td>1</td>\n",
       "      <td>Notre Dame</td>\n",
       "      <td>Pittsburgh</td>\n",
       "      <td>W, 68-67</td>\n",
       "      <td>68</td>\n",
       "      <td>62</td>\n",
       "      <td>...</td>\n",
       "      <td>50.0</td>\n",
       "      <td>9.6</td>\n",
       "      <td>16.1</td>\n",
       "      <td>43.1</td>\n",
       "      <td>51.7</td>\n",
       "      <td>2022</td>\n",
       "      <td>62.8</td>\n",
       "      <td>Mike Brey</td>\n",
       "      <td>Jeff Capel</td>\n",
       "      <td>Other ACC Venue</td>\n",
       "    </tr>\n",
       "    <tr>\n",
       "      <th>1618</th>\n",
       "      <td>2022</td>\n",
       "      <td>12/22/2021</td>\n",
       "      <td>A</td>\n",
       "      <td>0</td>\n",
       "      <td>1</td>\n",
       "      <td>Clemson</td>\n",
       "      <td>Virginia</td>\n",
       "      <td>W, 67-50</td>\n",
       "      <td>67</td>\n",
       "      <td>61</td>\n",
       "      <td>...</td>\n",
       "      <td>43.9</td>\n",
       "      <td>22.6</td>\n",
       "      <td>6.9</td>\n",
       "      <td>46.3</td>\n",
       "      <td>98.7</td>\n",
       "      <td>2022</td>\n",
       "      <td>61.9</td>\n",
       "      <td>Brad Brownell</td>\n",
       "      <td>Tony Bennett</td>\n",
       "      <td>Other ACC Venue</td>\n",
       "    </tr>\n",
       "    <tr>\n",
       "      <th>1619</th>\n",
       "      <td>2022</td>\n",
       "      <td>12/22/2021</td>\n",
       "      <td>A</td>\n",
       "      <td>1</td>\n",
       "      <td>0</td>\n",
       "      <td>Virginia Tech</td>\n",
       "      <td>Duke</td>\n",
       "      <td>L, 76-65</td>\n",
       "      <td>65</td>\n",
       "      <td>63</td>\n",
       "      <td>...</td>\n",
       "      <td>58.3</td>\n",
       "      <td>17.2</td>\n",
       "      <td>29.6</td>\n",
       "      <td>29.6</td>\n",
       "      <td>87.0</td>\n",
       "      <td>2022</td>\n",
       "      <td>63.9</td>\n",
       "      <td>Mike Young</td>\n",
       "      <td>Mike Krzyzewski</td>\n",
       "      <td>Cameron</td>\n",
       "    </tr>\n",
       "    <tr>\n",
       "      <th>1620</th>\n",
       "      <td>2022</td>\n",
       "      <td>12/5/2021</td>\n",
       "      <td>A</td>\n",
       "      <td>0</td>\n",
       "      <td>1</td>\n",
       "      <td>North Carolina</td>\n",
       "      <td>Georgia Tech</td>\n",
       "      <td>W, 79-62</td>\n",
       "      <td>79</td>\n",
       "      <td>66</td>\n",
       "      <td>...</td>\n",
       "      <td>51.9</td>\n",
       "      <td>19.7</td>\n",
       "      <td>13.3</td>\n",
       "      <td>13.0</td>\n",
       "      <td>91.6</td>\n",
       "      <td>2022</td>\n",
       "      <td>66.1</td>\n",
       "      <td>Hubert Davis</td>\n",
       "      <td>Josh Pastner</td>\n",
       "      <td>Other ACC Venue</td>\n",
       "    </tr>\n",
       "    <tr>\n",
       "      <th>1621</th>\n",
       "      <td>2022</td>\n",
       "      <td>12/4/2021</td>\n",
       "      <td>A</td>\n",
       "      <td>0</td>\n",
       "      <td>0</td>\n",
       "      <td>Clemson</td>\n",
       "      <td>Miami FL</td>\n",
       "      <td>L, 80-75</td>\n",
       "      <td>75</td>\n",
       "      <td>67</td>\n",
       "      <td>...</td>\n",
       "      <td>59.1</td>\n",
       "      <td>11.9</td>\n",
       "      <td>13.3</td>\n",
       "      <td>30.9</td>\n",
       "      <td>87.1</td>\n",
       "      <td>2022</td>\n",
       "      <td>67.4</td>\n",
       "      <td>Brad Brownell</td>\n",
       "      <td>Jim Larranaga</td>\n",
       "      <td>Other ACC Venue</td>\n",
       "    </tr>\n",
       "    <tr>\n",
       "      <th>1622</th>\n",
       "      <td>2022</td>\n",
       "      <td>12/4/2021</td>\n",
       "      <td>A</td>\n",
       "      <td>0</td>\n",
       "      <td>1</td>\n",
       "      <td>Wake Forest</td>\n",
       "      <td>Virginia Tech</td>\n",
       "      <td>W, 80-61</td>\n",
       "      <td>80</td>\n",
       "      <td>60</td>\n",
       "      <td>...</td>\n",
       "      <td>48.2</td>\n",
       "      <td>19.8</td>\n",
       "      <td>34.4</td>\n",
       "      <td>14.3</td>\n",
       "      <td>99.3</td>\n",
       "      <td>2022</td>\n",
       "      <td>60.8</td>\n",
       "      <td>Steve Forbes</td>\n",
       "      <td>Mike Young</td>\n",
       "      <td>Other ACC Venue</td>\n",
       "    </tr>\n",
       "    <tr>\n",
       "      <th>1623</th>\n",
       "      <td>2022</td>\n",
       "      <td>12/4/2021</td>\n",
       "      <td>A</td>\n",
       "      <td>0</td>\n",
       "      <td>1</td>\n",
       "      <td>Louisville</td>\n",
       "      <td>North Carolina St.</td>\n",
       "      <td>W, 73-68</td>\n",
       "      <td>73</td>\n",
       "      <td>66</td>\n",
       "      <td>...</td>\n",
       "      <td>46.7</td>\n",
       "      <td>9.0</td>\n",
       "      <td>17.9</td>\n",
       "      <td>30.0</td>\n",
       "      <td>82.7</td>\n",
       "      <td>2022</td>\n",
       "      <td>66.8</td>\n",
       "      <td>Chris Mack</td>\n",
       "      <td>Kevin Keatts</td>\n",
       "      <td>Other ACC Venue</td>\n",
       "    </tr>\n",
       "    <tr>\n",
       "      <th>1624</th>\n",
       "      <td>2022</td>\n",
       "      <td>12/4/2021</td>\n",
       "      <td>A</td>\n",
       "      <td>0</td>\n",
       "      <td>1</td>\n",
       "      <td>Syracuse</td>\n",
       "      <td>Florida St.</td>\n",
       "      <td>W, 63-60</td>\n",
       "      <td>63</td>\n",
       "      <td>69</td>\n",
       "      <td>...</td>\n",
       "      <td>38.1</td>\n",
       "      <td>15.9</td>\n",
       "      <td>30.0</td>\n",
       "      <td>25.4</td>\n",
       "      <td>76.1</td>\n",
       "      <td>2022</td>\n",
       "      <td>69.4</td>\n",
       "      <td>Jim Boeheim</td>\n",
       "      <td>Leonard Hamilton</td>\n",
       "      <td>Other ACC Venue</td>\n",
       "    </tr>\n",
       "    <tr>\n",
       "      <th>1625</th>\n",
       "      <td>2022</td>\n",
       "      <td>12/3/2021</td>\n",
       "      <td>A</td>\n",
       "      <td>0</td>\n",
       "      <td>0</td>\n",
       "      <td>Notre Dame</td>\n",
       "      <td>Boston College</td>\n",
       "      <td>L, 73-57</td>\n",
       "      <td>57</td>\n",
       "      <td>63</td>\n",
       "      <td>...</td>\n",
       "      <td>54.5</td>\n",
       "      <td>17.3</td>\n",
       "      <td>32.3</td>\n",
       "      <td>30.9</td>\n",
       "      <td>10.2</td>\n",
       "      <td>2022</td>\n",
       "      <td>63.7</td>\n",
       "      <td>Mike Brey</td>\n",
       "      <td>Earl Grant</td>\n",
       "      <td>Other ACC Venue</td>\n",
       "    </tr>\n",
       "    <tr>\n",
       "      <th>1626</th>\n",
       "      <td>2022</td>\n",
       "      <td>12/3/2021</td>\n",
       "      <td>A</td>\n",
       "      <td>0</td>\n",
       "      <td>0</td>\n",
       "      <td>Pittsburgh</td>\n",
       "      <td>Virginia</td>\n",
       "      <td>L, 57-56</td>\n",
       "      <td>56</td>\n",
       "      <td>52</td>\n",
       "      <td>...</td>\n",
       "      <td>50.0</td>\n",
       "      <td>11.3</td>\n",
       "      <td>31.0</td>\n",
       "      <td>13.5</td>\n",
       "      <td>76.6</td>\n",
       "      <td>2022</td>\n",
       "      <td>53.0</td>\n",
       "      <td>Jeff Capel</td>\n",
       "      <td>Tony Bennett</td>\n",
       "      <td>Other ACC Venue</td>\n",
       "    </tr>\n",
       "  </tbody>\n",
       "</table>\n",
       "<p>10 rows × 45 columns</p>\n",
       "</div>"
      ],
      "text/plain": [
       "      year        date location  in_Cameron  did_win            team  \\\n",
       "1617  2022  12/28/2021        A           0        1      Notre Dame   \n",
       "1618  2022  12/22/2021        A           0        1         Clemson   \n",
       "1619  2022  12/22/2021        A           1        0   Virginia Tech   \n",
       "1620  2022   12/5/2021        A           0        1  North Carolina   \n",
       "1621  2022   12/4/2021        A           0        0         Clemson   \n",
       "1622  2022   12/4/2021        A           0        1     Wake Forest   \n",
       "1623  2022   12/4/2021        A           0        1      Louisville   \n",
       "1624  2022   12/4/2021        A           0        1        Syracuse   \n",
       "1625  2022   12/3/2021        A           0        0      Notre Dame   \n",
       "1626  2022   12/3/2021        A           0        0      Pittsburgh   \n",
       "\n",
       "                     opp    result  pts  pos  ...  def_efg  def_to  def_or  \\\n",
       "1617          Pittsburgh  W, 68-67   68   62  ...     50.0     9.6    16.1   \n",
       "1618            Virginia  W, 67-50   67   61  ...     43.9    22.6     6.9   \n",
       "1619                Duke  L, 76-65   65   63  ...     58.3    17.2    29.6   \n",
       "1620        Georgia Tech  W, 79-62   79   66  ...     51.9    19.7    13.3   \n",
       "1621            Miami FL  L, 80-75   75   67  ...     59.1    11.9    13.3   \n",
       "1622       Virginia Tech  W, 80-61   80   60  ...     48.2    19.8    34.4   \n",
       "1623  North Carolina St.  W, 73-68   73   66  ...     46.7     9.0    17.9   \n",
       "1624         Florida St.  W, 63-60   63   69  ...     38.1    15.9    30.0   \n",
       "1625      Boston College  L, 73-57   57   63  ...     54.5    17.3    32.3   \n",
       "1626            Virginia  L, 57-56   56   52  ...     50.0    11.3    31.0   \n",
       "\n",
       "      def_ftr  game_score  season  tempo          coach         opp_coach  \\\n",
       "1617     43.1        51.7    2022   62.8      Mike Brey        Jeff Capel   \n",
       "1618     46.3        98.7    2022   61.9  Brad Brownell      Tony Bennett   \n",
       "1619     29.6        87.0    2022   63.9     Mike Young   Mike Krzyzewski   \n",
       "1620     13.0        91.6    2022   66.1   Hubert Davis      Josh Pastner   \n",
       "1621     30.9        87.1    2022   67.4  Brad Brownell     Jim Larranaga   \n",
       "1622     14.3        99.3    2022   60.8   Steve Forbes        Mike Young   \n",
       "1623     30.0        82.7    2022   66.8     Chris Mack      Kevin Keatts   \n",
       "1624     25.4        76.1    2022   69.4    Jim Boeheim  Leonard Hamilton   \n",
       "1625     30.9        10.2    2022   63.7      Mike Brey        Earl Grant   \n",
       "1626     13.5        76.6    2022   53.0     Jeff Capel      Tony Bennett   \n",
       "\n",
       "                venue  \n",
       "1617  Other ACC Venue  \n",
       "1618  Other ACC Venue  \n",
       "1619          Cameron  \n",
       "1620  Other ACC Venue  \n",
       "1621  Other ACC Venue  \n",
       "1622  Other ACC Venue  \n",
       "1623  Other ACC Venue  \n",
       "1624  Other ACC Venue  \n",
       "1625  Other ACC Venue  \n",
       "1626  Other ACC Venue  \n",
       "\n",
       "[10 rows x 45 columns]"
      ]
     },
     "execution_count": 6,
     "metadata": {},
     "output_type": "execute_result"
    }
   ],
   "source": [
    "df_games.tail(10)"
   ]
  },
  {
   "cell_type": "code",
   "execution_count": 7,
   "id": "4282d1e0",
   "metadata": {},
   "outputs": [
    {
     "data": {
      "text/plain": [
       "Index(['year', 'date', 'location', 'in_Cameron', 'did_win', 'team', 'opp',\n",
       "       'result', 'pts', 'pos', 'to', 'to_percent', 'fgm', 'fga', 'fg_percent',\n",
       "       'ftm', 'fta', 'ft_percent', 'pf', 'biggest_lead', 'biggest_run',\n",
       "       'game_id', 'type', 'conf', 'opp_conf', 'avg_marg', 'opp_avg_marg',\n",
       "       'adj_o', 'adj_d', 'off_ppp', 'off_efg', 'off_to', 'off_or', 'off_ftr',\n",
       "       'def_ppp', 'def_efg', 'def_to', 'def_or', 'def_ftr', 'game_score',\n",
       "       'season', 'tempo', 'coach', 'opp_coach', 'venue'],\n",
       "      dtype='object')"
      ]
     },
     "execution_count": 7,
     "metadata": {},
     "output_type": "execute_result"
    }
   ],
   "source": [
    "df_games.columns"
   ]
  },
  {
   "cell_type": "code",
   "execution_count": 8,
   "id": "bf401624",
   "metadata": {},
   "outputs": [],
   "source": [
    "def ttest_by_year_o(year):\n",
    "    df_year = df_games[df_games['year'] == year]\n",
    "    df_cameron = df_year[df_year['in_Cameron'] == 1]\n",
    "    \n",
    "    o_rtg_cameron = df_cameron['adj_o']\n",
    "    o_rtg_other = df_year[df_year['in_Cameron'] == 0]['adj_o']\n",
    "    return stats.ttest_ind(o_rtg_other, o_rtg_cameron, alternative='greater')[1]\n",
    "\n",
    "def ttest_by_year_d(year):\n",
    "    df_year = df_games[df_games['year'] == year]\n",
    "    df_cameron = df_year[df_year['in_Cameron'] == 1]\n",
    "    \n",
    "    d_rtg_cameron = df_cameron['adj_d']\n",
    "    d_rtg_other = df_year[df_year['in_Cameron'] == 0]['adj_d']\n",
    "    return stats.ttest_ind(d_rtg_other, d_rtg_cameron, alternative='less')[1]"
   ]
  },
  {
   "cell_type": "code",
   "execution_count": 9,
   "id": "51f5cab9",
   "metadata": {},
   "outputs": [],
   "source": [
    "p_value_o = []\n",
    "p_value_d = []"
   ]
  },
  {
   "cell_type": "code",
   "execution_count": 10,
   "id": "dc545212",
   "metadata": {},
   "outputs": [],
   "source": [
    "for year in df_games['year'].unique():\n",
    "    p_value_o.append(ttest_by_year_o(year))\n",
    "    p_value_d.append(ttest_by_year_d(year))"
   ]
  },
  {
   "cell_type": "code",
   "execution_count": 11,
   "id": "72fb5f24",
   "metadata": {},
   "outputs": [
    {
     "data": {
      "text/plain": [
       "[0.2371284482617818,\n",
       " 0.17682213163028604,\n",
       " 0.8989981777719763,\n",
       " 0.7871534889963204,\n",
       " 0.06720727356579556,\n",
       " 0.3578791519605062,\n",
       " 0.4304724622230415,\n",
       " 0.6880254074223504,\n",
       " 0.06316904527668799,\n",
       " 0.35067317440632373,\n",
       " 0.33457275020483124,\n",
       " 0.8845727513240833,\n",
       " 0.5653121839323209]"
      ]
     },
     "execution_count": 11,
     "metadata": {},
     "output_type": "execute_result"
    }
   ],
   "source": [
    "p_value_o"
   ]
  },
  {
   "cell_type": "code",
   "execution_count": 12,
   "id": "37c6ffff",
   "metadata": {},
   "outputs": [
    {
     "data": {
      "text/plain": [
       "[0.46468633400121234,\n",
       " 0.9382293510192022,\n",
       " 0.86803373262654,\n",
       " 0.2914376929014665,\n",
       " 0.6191669440637434,\n",
       " 0.4301794925683191,\n",
       " 0.6844042623762632,\n",
       " 0.4382740642976408,\n",
       " 0.8830302499884279,\n",
       " 0.858779451296761,\n",
       " 0.056884540395772155,\n",
       " 0.18086552090844005,\n",
       " 0.9507409629712744]"
      ]
     },
     "execution_count": 12,
     "metadata": {},
     "output_type": "execute_result"
    }
   ],
   "source": [
    "p_value_d"
   ]
  },
  {
   "cell_type": "code",
   "execution_count": 13,
   "id": "14747d2f",
   "metadata": {},
   "outputs": [
    {
     "name": "stdout",
     "output_type": "stream",
     "text": [
      "True\n"
     ]
    },
    {
     "data": {
      "image/png": "[encoded data removed]",
      "text/plain": [
       "<Figure size 640x480 with 1 Axes>"
      ]
     },
     "metadata": {},
     "output_type": "display_data"
    }
   ],
   "source": [
    "ax1 = df_games[(df_games['year'] == 2020) & (df_games['in_Cameron'] == 0)].plot.scatter(x='adj_o', y='adj_d', label = 'Other ACC venues')\n",
    "ax2 = df_games[(df_games['year'] == 2020) & (df_games['in_Cameron'] == 1)].plot.scatter(x='adj_o', y='adj_d', color = 'r', ax=ax1, label = 'At Cameron')\n",
    "print(ax1 == ax2)"
   ]
  },
  {
   "cell_type": "code",
   "execution_count": 14,
   "id": "9e8600a6",
   "metadata": {},
   "outputs": [
    {
     "data": {
      "text/plain": [
       "<Axes: xlabel='adj_o', ylabel='venue'>"
      ]
     },
     "execution_count": 14,
     "metadata": {},
     "output_type": "execute_result"
    },
    {
     "data": {
      "image/png": "[encoded data removed]",
      "text/plain": [
       "<Figure size 640x480 with 1 Axes>"
      ]
     },
     "metadata": {},
     "output_type": "display_data"
    }
   ],
   "source": [
    "sns.boxplot(data=df_games, x='adj_o', y = 'venue')"
   ]
  },
  {
   "cell_type": "code",
   "execution_count": 15,
   "id": "05e915b6",
   "metadata": {},
   "outputs": [
    {
     "data": {
      "text/plain": [
       "<Axes: xlabel='adj_d', ylabel='venue'>"
      ]
     },
     "execution_count": 15,
     "metadata": {},
     "output_type": "execute_result"
    },
    {
     "data": {
      "image/png": "[encoded data removed]",
      "text/plain": [
       "<Figure size 640x480 with 1 Axes>"
      ]
     },
     "metadata": {},
     "output_type": "display_data"
    }
   ],
   "source": [
    "sns.boxplot(data=df_games, x='adj_d', y = 'venue')"
   ]
  },
  {
   "cell_type": "code",
   "execution_count": 22,
   "id": "b2b6daa6",
   "metadata": {},
   "outputs": [
    {
     "data": {
      "text/plain": [
       "0.2364506745748044"
      ]
     },
     "execution_count": 22,
     "metadata": {},
     "output_type": "execute_result"
    }
   ],
   "source": [
    "stats.ttest_ind(df_games[(df_games['in_Cameron'] == 0)]['adj_o'], df_games[df_games['in_Cameron'] == 1]['adj_o'], alternative='greater')[1]"
   ]
  },
  {
   "cell_type": "code",
   "execution_count": 24,
   "id": "a887ea1f",
   "metadata": {},
   "outputs": [
    {
     "data": {
      "text/plain": [
       "0.8738730212212806"
      ]
     },
     "execution_count": 24,
     "metadata": {},
     "output_type": "execute_result"
    }
   ],
   "source": [
    "stats.ttest_ind(df_games[(df_games['in_Cameron'] == 0)]['adj_d'], df_games[df_games['in_Cameron'] == 1]['adj_d'], alternative='less')[1]"
   ]
  },
  {
   "cell_type": "code",
   "execution_count": null,
   "id": "97234764",
   "metadata": {},
   "outputs": [],
   "source": []
  },
  {
   "cell_type": "code",
   "execution_count": 16,
   "id": "5149adfb",
   "metadata": {},
   "outputs": [
    {
     "data": {
      "text/plain": [
       "0.0004800192312986998"
      ]
     },
     "execution_count": 16,
     "metadata": {},
     "output_type": "execute_result"
    }
   ],
   "source": [
    "stats.ttest_ind(df_games[(df_games['in_Cameron'] == 0) & (df_games['team'] == 'Duke')]['def_ftr'], df_games[df_games['in_Cameron'] == 1]['off_ftr'], alternative='greater')[1]"
   ]
  },
  {
   "cell_type": "code",
   "execution_count": 17,
   "id": "45c48c77",
   "metadata": {},
   "outputs": [
    {
     "data": {
      "text/html": [
       "<div>\n",
       "<style scoped>\n",
       "    .dataframe tbody tr th:only-of-type {\n",
       "        vertical-align: middle;\n",
       "    }\n",
       "\n",
       "    .dataframe tbody tr th {\n",
       "        vertical-align: top;\n",
       "    }\n",
       "\n",
       "    .dataframe thead th {\n",
       "        text-align: right;\n",
       "    }\n",
       "</style>\n",
       "<table border=\"1\" class=\"dataframe\">\n",
       "  <thead>\n",
       "    <tr style=\"text-align: right;\">\n",
       "      <th></th>\n",
       "      <th>year</th>\n",
       "      <th>date</th>\n",
       "      <th>location</th>\n",
       "      <th>in_Cameron</th>\n",
       "      <th>did_win</th>\n",
       "      <th>team</th>\n",
       "      <th>opp</th>\n",
       "      <th>result</th>\n",
       "      <th>pts</th>\n",
       "      <th>pos</th>\n",
       "      <th>...</th>\n",
       "      <th>def_efg</th>\n",
       "      <th>def_to</th>\n",
       "      <th>def_or</th>\n",
       "      <th>def_ftr</th>\n",
       "      <th>game_score</th>\n",
       "      <th>season</th>\n",
       "      <th>tempo</th>\n",
       "      <th>coach</th>\n",
       "      <th>opp_coach</th>\n",
       "      <th>venue</th>\n",
       "    </tr>\n",
       "  </thead>\n",
       "  <tbody>\n",
       "    <tr>\n",
       "      <th>8</th>\n",
       "      <td>2010</td>\n",
       "      <td>3/3/2010</td>\n",
       "      <td>A</td>\n",
       "      <td>0</td>\n",
       "      <td>0</td>\n",
       "      <td>Duke</td>\n",
       "      <td>Maryland</td>\n",
       "      <td>L, 79-72</td>\n",
       "      <td>72</td>\n",
       "      <td>67</td>\n",
       "      <td>...</td>\n",
       "      <td>55.4</td>\n",
       "      <td>16.2</td>\n",
       "      <td>27.6</td>\n",
       "      <td>33.9</td>\n",
       "      <td>83.9</td>\n",
       "      <td>2010</td>\n",
       "      <td>67.8</td>\n",
       "      <td>Mike Krzyzewski</td>\n",
       "      <td>Gary Williams</td>\n",
       "      <td>Other ACC Venue</td>\n",
       "    </tr>\n",
       "    <tr>\n",
       "      <th>13</th>\n",
       "      <td>2010</td>\n",
       "      <td>2/28/2010</td>\n",
       "      <td>A</td>\n",
       "      <td>0</td>\n",
       "      <td>1</td>\n",
       "      <td>Duke</td>\n",
       "      <td>Virginia</td>\n",
       "      <td>W, 67-49</td>\n",
       "      <td>67</td>\n",
       "      <td>62</td>\n",
       "      <td>...</td>\n",
       "      <td>33.3</td>\n",
       "      <td>22.3</td>\n",
       "      <td>27.0</td>\n",
       "      <td>35.3</td>\n",
       "      <td>99.6</td>\n",
       "      <td>2010</td>\n",
       "      <td>62.8</td>\n",
       "      <td>Mike Krzyzewski</td>\n",
       "      <td>Tony Bennett</td>\n",
       "      <td>Other ACC Venue</td>\n",
       "    </tr>\n",
       "    <tr>\n",
       "      <th>29</th>\n",
       "      <td>2010</td>\n",
       "      <td>2/17/2010</td>\n",
       "      <td>A</td>\n",
       "      <td>0</td>\n",
       "      <td>1</td>\n",
       "      <td>Duke</td>\n",
       "      <td>Miami FL</td>\n",
       "      <td>W, 81-74</td>\n",
       "      <td>81</td>\n",
       "      <td>68</td>\n",
       "      <td>...</td>\n",
       "      <td>60.0</td>\n",
       "      <td>32.1</td>\n",
       "      <td>47.8</td>\n",
       "      <td>60.0</td>\n",
       "      <td>90.5</td>\n",
       "      <td>2010</td>\n",
       "      <td>68.6</td>\n",
       "      <td>Mike Krzyzewski</td>\n",
       "      <td>Frank Haith</td>\n",
       "      <td>Other ACC Venue</td>\n",
       "    </tr>\n",
       "    <tr>\n",
       "      <th>40</th>\n",
       "      <td>2010</td>\n",
       "      <td>2/10/2010</td>\n",
       "      <td>A</td>\n",
       "      <td>0</td>\n",
       "      <td>1</td>\n",
       "      <td>Duke</td>\n",
       "      <td>North Carolina</td>\n",
       "      <td>W, 64-54</td>\n",
       "      <td>64</td>\n",
       "      <td>63</td>\n",
       "      <td>...</td>\n",
       "      <td>38.8</td>\n",
       "      <td>19.0</td>\n",
       "      <td>33.3</td>\n",
       "      <td>27.6</td>\n",
       "      <td>94.8</td>\n",
       "      <td>2010</td>\n",
       "      <td>63.1</td>\n",
       "      <td>Mike Krzyzewski</td>\n",
       "      <td>Roy Williams</td>\n",
       "      <td>Other ACC Venue</td>\n",
       "    </tr>\n",
       "    <tr>\n",
       "      <th>47</th>\n",
       "      <td>2010</td>\n",
       "      <td>2/6/2010</td>\n",
       "      <td>A</td>\n",
       "      <td>0</td>\n",
       "      <td>1</td>\n",
       "      <td>Duke</td>\n",
       "      <td>Boston College</td>\n",
       "      <td>W, 66-63</td>\n",
       "      <td>66</td>\n",
       "      <td>60</td>\n",
       "      <td>...</td>\n",
       "      <td>43.1</td>\n",
       "      <td>14.9</td>\n",
       "      <td>40.6</td>\n",
       "      <td>25.9</td>\n",
       "      <td>94.0</td>\n",
       "      <td>2010</td>\n",
       "      <td>60.2</td>\n",
       "      <td>Mike Krzyzewski</td>\n",
       "      <td>Al Skinner</td>\n",
       "      <td>Other ACC Venue</td>\n",
       "    </tr>\n",
       "    <tr>\n",
       "      <th>...</th>\n",
       "      <td>...</td>\n",
       "      <td>...</td>\n",
       "      <td>...</td>\n",
       "      <td>...</td>\n",
       "      <td>...</td>\n",
       "      <td>...</td>\n",
       "      <td>...</td>\n",
       "      <td>...</td>\n",
       "      <td>...</td>\n",
       "      <td>...</td>\n",
       "      <td>...</td>\n",
       "      <td>...</td>\n",
       "      <td>...</td>\n",
       "      <td>...</td>\n",
       "      <td>...</td>\n",
       "      <td>...</td>\n",
       "      <td>...</td>\n",
       "      <td>...</td>\n",
       "      <td>...</td>\n",
       "      <td>...</td>\n",
       "      <td>...</td>\n",
       "    </tr>\n",
       "    <tr>\n",
       "      <th>1542</th>\n",
       "      <td>2022</td>\n",
       "      <td>2/5/2022</td>\n",
       "      <td>A</td>\n",
       "      <td>0</td>\n",
       "      <td>1</td>\n",
       "      <td>Duke</td>\n",
       "      <td>North Carolina</td>\n",
       "      <td>W, 87-67</td>\n",
       "      <td>87</td>\n",
       "      <td>68</td>\n",
       "      <td>...</td>\n",
       "      <td>48.3</td>\n",
       "      <td>11.7</td>\n",
       "      <td>15.8</td>\n",
       "      <td>25.4</td>\n",
       "      <td>99.8</td>\n",
       "      <td>2022</td>\n",
       "      <td>68.7</td>\n",
       "      <td>Mike Krzyzewski</td>\n",
       "      <td>Hubert Davis</td>\n",
       "      <td>Other ACC Venue</td>\n",
       "    </tr>\n",
       "    <tr>\n",
       "      <th>1551</th>\n",
       "      <td>2022</td>\n",
       "      <td>1/31/2022</td>\n",
       "      <td>A</td>\n",
       "      <td>0</td>\n",
       "      <td>1</td>\n",
       "      <td>Duke</td>\n",
       "      <td>Notre Dame</td>\n",
       "      <td>W, 57-43</td>\n",
       "      <td>57</td>\n",
       "      <td>65</td>\n",
       "      <td>...</td>\n",
       "      <td>30.3</td>\n",
       "      <td>18.2</td>\n",
       "      <td>23.9</td>\n",
       "      <td>14.8</td>\n",
       "      <td>99.7</td>\n",
       "      <td>2022</td>\n",
       "      <td>65.8</td>\n",
       "      <td>Mike Krzyzewski</td>\n",
       "      <td>Mike Brey</td>\n",
       "      <td>Other ACC Venue</td>\n",
       "    </tr>\n",
       "    <tr>\n",
       "      <th>1553</th>\n",
       "      <td>2022</td>\n",
       "      <td>1/29/2022</td>\n",
       "      <td>A</td>\n",
       "      <td>0</td>\n",
       "      <td>1</td>\n",
       "      <td>Duke</td>\n",
       "      <td>Louisville</td>\n",
       "      <td>W, 74-65</td>\n",
       "      <td>74</td>\n",
       "      <td>63</td>\n",
       "      <td>...</td>\n",
       "      <td>49.2</td>\n",
       "      <td>14.1</td>\n",
       "      <td>27.0</td>\n",
       "      <td>22.0</td>\n",
       "      <td>92.3</td>\n",
       "      <td>2022</td>\n",
       "      <td>63.9</td>\n",
       "      <td>Mike Krzyzewski</td>\n",
       "      <td>Chris Mack</td>\n",
       "      <td>Other ACC Venue</td>\n",
       "    </tr>\n",
       "    <tr>\n",
       "      <th>1581</th>\n",
       "      <td>2022</td>\n",
       "      <td>1/18/2022</td>\n",
       "      <td>A</td>\n",
       "      <td>0</td>\n",
       "      <td>0</td>\n",
       "      <td>Duke</td>\n",
       "      <td>Florida St.</td>\n",
       "      <td>L, 79-78</td>\n",
       "      <td>78</td>\n",
       "      <td>71</td>\n",
       "      <td>...</td>\n",
       "      <td>40.4</td>\n",
       "      <td>7.0</td>\n",
       "      <td>38.8</td>\n",
       "      <td>34.2</td>\n",
       "      <td>69.9</td>\n",
       "      <td>2022</td>\n",
       "      <td>63.3</td>\n",
       "      <td>Mike Krzyzewski</td>\n",
       "      <td>Leonard Hamilton</td>\n",
       "      <td>Other ACC Venue</td>\n",
       "    </tr>\n",
       "    <tr>\n",
       "      <th>1589</th>\n",
       "      <td>2022</td>\n",
       "      <td>1/12/2022</td>\n",
       "      <td>A</td>\n",
       "      <td>0</td>\n",
       "      <td>1</td>\n",
       "      <td>Duke</td>\n",
       "      <td>Wake Forest</td>\n",
       "      <td>W, 76-64</td>\n",
       "      <td>76</td>\n",
       "      <td>68</td>\n",
       "      <td>...</td>\n",
       "      <td>46.3</td>\n",
       "      <td>21.8</td>\n",
       "      <td>29.4</td>\n",
       "      <td>37.0</td>\n",
       "      <td>98.5</td>\n",
       "      <td>2022</td>\n",
       "      <td>68.8</td>\n",
       "      <td>Mike Krzyzewski</td>\n",
       "      <td>Steve Forbes</td>\n",
       "      <td>Other ACC Venue</td>\n",
       "    </tr>\n",
       "  </tbody>\n",
       "</table>\n",
       "<p>116 rows × 45 columns</p>\n",
       "</div>"
      ],
      "text/plain": [
       "      year       date location  in_Cameron  did_win  team             opp  \\\n",
       "8     2010   3/3/2010        A           0        0  Duke        Maryland   \n",
       "13    2010  2/28/2010        A           0        1  Duke        Virginia   \n",
       "29    2010  2/17/2010        A           0        1  Duke        Miami FL   \n",
       "40    2010  2/10/2010        A           0        1  Duke  North Carolina   \n",
       "47    2010   2/6/2010        A           0        1  Duke  Boston College   \n",
       "...    ...        ...      ...         ...      ...   ...             ...   \n",
       "1542  2022   2/5/2022        A           0        1  Duke  North Carolina   \n",
       "1551  2022  1/31/2022        A           0        1  Duke      Notre Dame   \n",
       "1553  2022  1/29/2022        A           0        1  Duke      Louisville   \n",
       "1581  2022  1/18/2022        A           0        0  Duke     Florida St.   \n",
       "1589  2022  1/12/2022        A           0        1  Duke     Wake Forest   \n",
       "\n",
       "        result  pts  pos  ...  def_efg  def_to  def_or  def_ftr  game_score  \\\n",
       "8     L, 79-72   72   67  ...     55.4    16.2    27.6     33.9        83.9   \n",
       "13    W, 67-49   67   62  ...     33.3    22.3    27.0     35.3        99.6   \n",
       "29    W, 81-74   81   68  ...     60.0    32.1    47.8     60.0        90.5   \n",
       "40    W, 64-54   64   63  ...     38.8    19.0    33.3     27.6        94.8   \n",
       "47    W, 66-63   66   60  ...     43.1    14.9    40.6     25.9        94.0   \n",
       "...        ...  ...  ...  ...      ...     ...     ...      ...         ...   \n",
       "1542  W, 87-67   87   68  ...     48.3    11.7    15.8     25.4        99.8   \n",
       "1551  W, 57-43   57   65  ...     30.3    18.2    23.9     14.8        99.7   \n",
       "1553  W, 74-65   74   63  ...     49.2    14.1    27.0     22.0        92.3   \n",
       "1581  L, 79-78   78   71  ...     40.4     7.0    38.8     34.2        69.9   \n",
       "1589  W, 76-64   76   68  ...     46.3    21.8    29.4     37.0        98.5   \n",
       "\n",
       "      season  tempo            coach         opp_coach            venue  \n",
       "8       2010   67.8  Mike Krzyzewski     Gary Williams  Other ACC Venue  \n",
       "13      2010   62.8  Mike Krzyzewski      Tony Bennett  Other ACC Venue  \n",
       "29      2010   68.6  Mike Krzyzewski       Frank Haith  Other ACC Venue  \n",
       "40      2010   63.1  Mike Krzyzewski      Roy Williams  Other ACC Venue  \n",
       "47      2010   60.2  Mike Krzyzewski        Al Skinner  Other ACC Venue  \n",
       "...      ...    ...              ...               ...              ...  \n",
       "1542    2022   68.7  Mike Krzyzewski      Hubert Davis  Other ACC Venue  \n",
       "1551    2022   65.8  Mike Krzyzewski         Mike Brey  Other ACC Venue  \n",
       "1553    2022   63.9  Mike Krzyzewski        Chris Mack  Other ACC Venue  \n",
       "1581    2022   63.3  Mike Krzyzewski  Leonard Hamilton  Other ACC Venue  \n",
       "1589    2022   68.8  Mike Krzyzewski      Steve Forbes  Other ACC Venue  \n",
       "\n",
       "[116 rows x 45 columns]"
      ]
     },
     "execution_count": 17,
     "metadata": {},
     "output_type": "execute_result"
    }
   ],
   "source": [
    "df_games[(df_games['in_Cameron'] == 0) & (df_games['team'] == 'Duke')]"
   ]
  },
  {
   "cell_type": "code",
   "execution_count": 18,
   "id": "2e6f4f05",
   "metadata": {},
   "outputs": [
    {
     "data": {
      "text/plain": [
       "0.016281919754622794"
      ]
     },
     "execution_count": 18,
     "metadata": {},
     "output_type": "execute_result"
    }
   ],
   "source": [
    "#Opponents ftr vs Duke, at other venue vs at Cameron\n",
    "#stats.ttest_ind(df_games[(df_games['in_Cameron'] == 0) & (df_games['team'] == 'Duke')]['def_ftr'], df_games[df_games['in_Cameron'] == 1]['off_ftr'], alternative='greater')[1]\n",
    "stats.ttest_ind(df_games[(df_games['in_Cameron'] == 0) & (df_games['team'] != 'Duke')]['off_ftr'], df_games[df_games['in_Cameron'] == 1]['off_ftr'], alternative='greater')[1]"
   ]
  },
  {
   "cell_type": "code",
   "execution_count": 19,
   "id": "9204e217",
   "metadata": {},
   "outputs": [
    {
     "name": "stdout",
     "output_type": "stream",
     "text": [
      "True\n"
     ]
    },
    {
     "data": {
      "image/png": "[encoded data removed]",
      "text/plain": [
       "<Figure size 640x480 with 1 Axes>"
      ]
     },
     "metadata": {},
     "output_type": "display_data"
    }
   ],
   "source": [
    "ax1 = df_games[(df_games['in_Cameron'] == 0) & (df_games['team'] != 'Duke')].plot.scatter(x='off_ftr', y='def_ftr', label = 'Other ACC venues')\n",
    "ax2 = df_games[df_games['in_Cameron'] == 1].plot.scatter(x='off_ftr', y='def_ftr', color = 'r', ax=ax1, label = 'At Cameron')\n",
    "print(ax1 == ax2)"
   ]
  },
  {
   "cell_type": "code",
   "execution_count": 20,
   "id": "6ad7cabc",
   "metadata": {},
   "outputs": [
    {
     "data": {
      "text/plain": [
       "0.00775193324517445"
      ]
     },
     "execution_count": 20,
     "metadata": {},
     "output_type": "execute_result"
    }
   ],
   "source": [
    "stats.ttest_ind(df_games[(df_games['team'] == 'Duke')]['off_ftr'], df_games[(df_games['team'] != 'Duke')]['off_ftr'], alternative='greater')[1]"
   ]
  },
  {
   "cell_type": "code",
   "execution_count": 21,
   "id": "9d2a7e48",
   "metadata": {},
   "outputs": [
    {
     "ename": "ValueError",
     "evalue": "all the input array dimensions except for the concatenation axis must match exactly, but along dimension 1, the array at index 0 has size 116 and the array at index 1 has size 1511",
     "output_type": "error",
     "traceback": [
      "\u001b[0;31m---------------------------------------------------------------------------\u001b[0m",
      "\u001b[0;31mValueError\u001b[0m                                Traceback (most recent call last)",
      "Cell \u001b[0;32mIn[21], line 1\u001b[0m\n\u001b[0;32m----> 1\u001b[0m \u001b[43mstats\u001b[49m\u001b[38;5;241;43m.\u001b[39;49m\u001b[43mlinregress\u001b[49m\u001b[43m(\u001b[49m\u001b[43mdf_games\u001b[49m\u001b[43m[\u001b[49m\u001b[43m(\u001b[49m\u001b[43mdf_games\u001b[49m\u001b[43m[\u001b[49m\u001b[38;5;124;43m'\u001b[39;49m\u001b[38;5;124;43mteam\u001b[39;49m\u001b[38;5;124;43m'\u001b[39;49m\u001b[43m]\u001b[49m\u001b[43m \u001b[49m\u001b[38;5;241;43m==\u001b[39;49m\u001b[43m \u001b[49m\u001b[38;5;124;43m'\u001b[39;49m\u001b[38;5;124;43mDuke\u001b[39;49m\u001b[38;5;124;43m'\u001b[39;49m\u001b[43m)\u001b[49m\u001b[43m]\u001b[49m\u001b[43m[\u001b[49m\u001b[38;5;124;43m'\u001b[39;49m\u001b[38;5;124;43moff_ftr\u001b[39;49m\u001b[38;5;124;43m'\u001b[39;49m\u001b[43m]\u001b[49m\u001b[43m,\u001b[49m\u001b[43m \u001b[49m\u001b[43mdf_games\u001b[49m\u001b[43m[\u001b[49m\u001b[43m(\u001b[49m\u001b[43mdf_games\u001b[49m\u001b[43m[\u001b[49m\u001b[38;5;124;43m'\u001b[39;49m\u001b[38;5;124;43mteam\u001b[39;49m\u001b[38;5;124;43m'\u001b[39;49m\u001b[43m]\u001b[49m\u001b[43m \u001b[49m\u001b[38;5;241;43m!=\u001b[39;49m\u001b[43m \u001b[49m\u001b[38;5;124;43m'\u001b[39;49m\u001b[38;5;124;43mDuke\u001b[39;49m\u001b[38;5;124;43m'\u001b[39;49m\u001b[43m)\u001b[49m\u001b[43m]\u001b[49m\u001b[43m[\u001b[49m\u001b[38;5;124;43m'\u001b[39;49m\u001b[38;5;124;43moff_ftr\u001b[39;49m\u001b[38;5;124;43m'\u001b[39;49m\u001b[43m]\u001b[49m\u001b[43m)\u001b[49m\n",
      "File \u001b[0;32m~/.pyenv/versions/3.11.2/lib/python3.11/site-packages/scipy/stats/_stats_mstats_common.py:167\u001b[0m, in \u001b[0;36mlinregress\u001b[0;34m(x, y, alternative)\u001b[0m\n\u001b[1;32m    162\u001b[0m ymean \u001b[38;5;241m=\u001b[39m np\u001b[38;5;241m.\u001b[39mmean(y, \u001b[38;5;28;01mNone\u001b[39;00m)\n\u001b[1;32m    164\u001b[0m \u001b[38;5;66;03m# Average sums of square differences from the mean\u001b[39;00m\n\u001b[1;32m    165\u001b[0m \u001b[38;5;66;03m#   ssxm = mean( (x-mean(x))^2 )\u001b[39;00m\n\u001b[1;32m    166\u001b[0m \u001b[38;5;66;03m#   ssxym = mean( (x-mean(x)) * (y-mean(y)) )\u001b[39;00m\n\u001b[0;32m--> 167\u001b[0m ssxm, ssxym, _, ssym \u001b[38;5;241m=\u001b[39m \u001b[43mnp\u001b[49m\u001b[38;5;241;43m.\u001b[39;49m\u001b[43mcov\u001b[49m\u001b[43m(\u001b[49m\u001b[43mx\u001b[49m\u001b[43m,\u001b[49m\u001b[43m \u001b[49m\u001b[43my\u001b[49m\u001b[43m,\u001b[49m\u001b[43m \u001b[49m\u001b[43mbias\u001b[49m\u001b[38;5;241;43m=\u001b[39;49m\u001b[38;5;241;43m1\u001b[39;49m\u001b[43m)\u001b[49m\u001b[38;5;241m.\u001b[39mflat\n\u001b[1;32m    169\u001b[0m \u001b[38;5;66;03m# R-value\u001b[39;00m\n\u001b[1;32m    170\u001b[0m \u001b[38;5;66;03m#   r = ssxym / sqrt( ssxm * ssym )\u001b[39;00m\n\u001b[1;32m    171\u001b[0m \u001b[38;5;28;01mif\u001b[39;00m ssxm \u001b[38;5;241m==\u001b[39m \u001b[38;5;241m0.0\u001b[39m \u001b[38;5;129;01mor\u001b[39;00m ssym \u001b[38;5;241m==\u001b[39m \u001b[38;5;241m0.0\u001b[39m:\n\u001b[1;32m    172\u001b[0m     \u001b[38;5;66;03m# If the denominator was going to be 0\u001b[39;00m\n",
      "File \u001b[0;32m<__array_function__ internals>:200\u001b[0m, in \u001b[0;36mcov\u001b[0;34m(*args, **kwargs)\u001b[0m\n",
      "File \u001b[0;32m~/.pyenv/versions/3.11.2/lib/python3.11/site-packages/numpy/lib/function_base.py:2640\u001b[0m, in \u001b[0;36mcov\u001b[0;34m(m, y, rowvar, bias, ddof, fweights, aweights, dtype)\u001b[0m\n\u001b[1;32m   2638\u001b[0m     \u001b[38;5;28;01mif\u001b[39;00m \u001b[38;5;129;01mnot\u001b[39;00m rowvar \u001b[38;5;129;01mand\u001b[39;00m y\u001b[38;5;241m.\u001b[39mshape[\u001b[38;5;241m0\u001b[39m] \u001b[38;5;241m!=\u001b[39m \u001b[38;5;241m1\u001b[39m:\n\u001b[1;32m   2639\u001b[0m         y \u001b[38;5;241m=\u001b[39m y\u001b[38;5;241m.\u001b[39mT\n\u001b[0;32m-> 2640\u001b[0m     X \u001b[38;5;241m=\u001b[39m \u001b[43mnp\u001b[49m\u001b[38;5;241;43m.\u001b[39;49m\u001b[43mconcatenate\u001b[49m\u001b[43m(\u001b[49m\u001b[43m(\u001b[49m\u001b[43mX\u001b[49m\u001b[43m,\u001b[49m\u001b[43m \u001b[49m\u001b[43my\u001b[49m\u001b[43m)\u001b[49m\u001b[43m,\u001b[49m\u001b[43m \u001b[49m\u001b[43maxis\u001b[49m\u001b[38;5;241;43m=\u001b[39;49m\u001b[38;5;241;43m0\u001b[39;49m\u001b[43m)\u001b[49m\n\u001b[1;32m   2642\u001b[0m \u001b[38;5;28;01mif\u001b[39;00m ddof \u001b[38;5;129;01mis\u001b[39;00m \u001b[38;5;28;01mNone\u001b[39;00m:\n\u001b[1;32m   2643\u001b[0m     \u001b[38;5;28;01mif\u001b[39;00m bias \u001b[38;5;241m==\u001b[39m \u001b[38;5;241m0\u001b[39m:\n",
      "File \u001b[0;32m<__array_function__ internals>:200\u001b[0m, in \u001b[0;36mconcatenate\u001b[0;34m(*args, **kwargs)\u001b[0m\n",
      "\u001b[0;31mValueError\u001b[0m: all the input array dimensions except for the concatenation axis must match exactly, but along dimension 1, the array at index 0 has size 116 and the array at index 1 has size 1511"
     ]
    }
   ],
   "source": [
    "stats.linregress(df_games[(df_games['team'] == 'Duke')]['off_ftr'], df_games[(df_games['team'] != 'Duke')]['off_ftr'])"
   ]
  },
  {
   "cell_type": "code",
   "execution_count": null,
   "id": "a7e83bbe",
   "metadata": {},
   "outputs": [],
   "source": []
  }
 ],
 "metadata": {
  "kernelspec": {
   "display_name": "Python 3 (ipykernel)",
   "language": "python",
   "name": "python3"
  },
  "language_info": {
   "codemirror_mode": {
    "name": "ipython",
    "version": 3
   },
   "file_extension": ".py",
   "mimetype": "text/x-python",
   "name": "python",
   "nbconvert_exporter": "python",
   "pygments_lexer": "ipython3",
   "version": "3.11.2"
  }
 },
 "nbformat": 4,
 "nbformat_minor": 5
}
